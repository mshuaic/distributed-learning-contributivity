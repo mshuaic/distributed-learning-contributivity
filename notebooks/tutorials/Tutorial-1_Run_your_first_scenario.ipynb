{
 "cells": [
  {
   "cell_type": "markdown",
   "metadata": {
    "colab_type": "text",
    "id": "1H1pfmz1ddPG"
   },
   "source": [
    "Tutorials table of content:\n",
    "\n",
    "- Tutorial 1: Run a first scenario\n",
    "- [Tutorial 2: Add contributivity measurements methods](./Tutorial-2_Add_contributivity_measurement.ipynb)\n",
    "- [Tutorial 3: Use a custom dataset](./Tutorial-3_Use_homemade_dataset.ipynb)\n",
    "\n",
    "\n",
    "# Tutorial 1: Run a first scenario\n",
    "\n",
    "\n",
    "## 1 - Prerequisites\n",
    "\n",
    "In order to run this example, you'll need to:\n",
    "\n",
    "* use python 3.7 +\n",
    "* install this package https://pypi.org/project/mplc/\n"
   ]
  },
  {
   "cell_type": "code",
   "execution_count": 2,
   "metadata": {},
   "outputs": [
    {
     "name": "stdout",
     "output_type": "stream",
     "text": [
      "Python 3.7.9\n"
     ]
    }
   ],
   "source": [
    "!python --version"
   ]
  },
  {
   "cell_type": "code",
   "execution_count": 1,
   "metadata": {
    "pycharm": {
     "name": "#%%\n"
    }
   },
   "outputs": [
    {
     "name": "stdout",
     "output_type": "stream",
     "text": [
      "Collecting mplc\n",
      "  Using cached mplc-0.2-py3-none-any.whl (85 kB)\n",
      "Requirement already satisfied: tensorflow==2.2.1 in c:\\programdata\\anaconda3\\lib\\site-packages (from mplc) (2.2.1)\n",
      "Requirement already satisfied: loguru==0.4.1 in c:\\programdata\\anaconda3\\lib\\site-packages (from mplc) (0.4.1)\n",
      "Requirement already satisfied: librosa==0.8.0 in c:\\programdata\\anaconda3\\lib\\site-packages (from mplc) (0.8.0)\n",
      "Requirement already satisfied: h5py==2.10.0 in c:\\users\\eric\\appdata\\roaming\\python\\python37\\site-packages (from mplc) (2.10.0)\n",
      "Requirement already satisfied: numpy==1.18.5 in c:\\programdata\\anaconda3\\lib\\site-packages (from mplc) (1.18.5)\n",
      "Requirement already satisfied: scipy==1.4.1 in c:\\users\\eric\\appdata\\roaming\\python\\python37\\site-packages (from mplc) (1.4.1)\n",
      "Requirement already satisfied: pandas==1.0.5 in c:\\programdata\\anaconda3\\lib\\site-packages (from mplc) (1.0.5)\n",
      "Requirement already satisfied: Keras==2.3.1 in c:\\programdata\\anaconda3\\lib\\site-packages (from mplc) (2.3.1)\n",
      "Collecting ruamel.yaml==0.16.10\n",
      "  Using cached ruamel.yaml-0.16.10-py2.py3-none-any.whl (111 kB)\n",
      "Requirement already satisfied: scikit-learn==0.22.1 in c:\\programdata\\anaconda3\\lib\\site-packages (from mplc) (0.22.1)\n",
      "Requirement already satisfied: joblib==0.15.1 in c:\\programdata\\anaconda3\\lib\\site-packages (from mplc) (0.15.1)\n",
      "Requirement already satisfied: seaborn==0.10.0 in c:\\programdata\\anaconda3\\lib\\site-packages (from mplc) (0.10.0)\n",
      "Requirement already satisfied: matplotlib==3.1.3 in c:\\programdata\\anaconda3\\lib\\site-packages (from mplc) (3.1.3)\n",
      "Requirement already satisfied: google-pasta>=0.1.8 in c:\\users\\eric\\appdata\\roaming\\python\\python37\\site-packages (from tensorflow==2.2.1->mplc) (0.2.0)\n",
      "Requirement already satisfied: termcolor>=1.1.0 in c:\\users\\eric\\appdata\\roaming\\python\\python37\\site-packages (from tensorflow==2.2.1->mplc) (1.1.0)\n",
      "Requirement already satisfied: six>=1.12.0 in c:\\programdata\\anaconda3\\lib\\site-packages (from tensorflow==2.2.1->mplc) (1.15.0)\n",
      "Requirement already satisfied: tensorboard<2.3.0,>=2.2.0 in c:\\users\\eric\\appdata\\roaming\\python\\python37\\site-packages (from tensorflow==2.2.1->mplc) (2.2.2)\n",
      "Requirement already satisfied: grpcio>=1.8.6 in c:\\users\\eric\\appdata\\roaming\\python\\python37\\site-packages (from tensorflow==2.2.1->mplc) (1.29.0)\n",
      "Requirement already satisfied: wrapt>=1.11.1 in c:\\users\\eric\\appdata\\roaming\\python\\python37\\site-packages (from tensorflow==2.2.1->mplc) (1.11.2)\n",
      "Requirement already satisfied: wheel>=0.26; python_version >= \"3\" in c:\\users\\eric\\appdata\\roaming\\python\\python37\\site-packages (from tensorflow==2.2.1->mplc) (0.34.2)\n",
      "Requirement already satisfied: keras-preprocessing>=1.1.0 in c:\\users\\eric\\appdata\\roaming\\python\\python37\\site-packages (from tensorflow==2.2.1->mplc) (1.1.2)\n",
      "Requirement already satisfied: gast==0.3.3 in c:\\users\\eric\\appdata\\roaming\\python\\python37\\site-packages (from tensorflow==2.2.1->mplc) (0.3.3)\n",
      "Requirement already satisfied: opt-einsum>=2.3.2 in c:\\users\\eric\\appdata\\roaming\\python\\python37\\site-packages (from tensorflow==2.2.1->mplc) (3.2.1)\n",
      "Requirement already satisfied: protobuf>=3.8.0 in c:\\users\\eric\\appdata\\roaming\\python\\python37\\site-packages (from tensorflow==2.2.1->mplc) (3.12.2)\n",
      "Requirement already satisfied: absl-py>=0.7.0 in c:\\users\\eric\\appdata\\roaming\\python\\python37\\site-packages (from tensorflow==2.2.1->mplc) (0.9.0)\n",
      "Requirement already satisfied: astunparse==1.6.3 in c:\\users\\eric\\appdata\\roaming\\python\\python37\\site-packages (from tensorflow==2.2.1->mplc) (1.6.3)\n",
      "Requirement already satisfied: tensorflow-estimator<2.3.0,>=2.2.0 in c:\\users\\eric\\appdata\\roaming\\python\\python37\\site-packages (from tensorflow==2.2.1->mplc) (2.2.0)\n",
      "Requirement already satisfied: win32-setctime>=1.0.0; sys_platform == \"win32\" in c:\\programdata\\anaconda3\\lib\\site-packages (from loguru==0.4.1->mplc) (1.0.3)\n",
      "Requirement already satisfied: colorama>=0.3.4; sys_platform == \"win32\" in c:\\users\\eric\\appdata\\roaming\\python\\python37\\site-packages (from loguru==0.4.1->mplc) (0.4.3)\n",
      "Requirement already satisfied: pooch>=1.0 in c:\\programdata\\anaconda3\\lib\\site-packages (from librosa==0.8.0->mplc) (1.2.0)\n",
      "Requirement already satisfied: soundfile>=0.9.0 in c:\\programdata\\anaconda3\\lib\\site-packages (from librosa==0.8.0->mplc) (0.10.3.post1)\n",
      "Requirement already satisfied: decorator>=3.0.0 in c:\\programdata\\anaconda3\\lib\\site-packages (from librosa==0.8.0->mplc) (4.4.2)\n",
      "Requirement already satisfied: audioread>=2.0.0 in c:\\programdata\\anaconda3\\lib\\site-packages (from librosa==0.8.0->mplc) (2.1.9)\n",
      "Requirement already satisfied: numba>=0.43.0 in c:\\programdata\\anaconda3\\lib\\site-packages (from librosa==0.8.0->mplc) (0.51.2)\n",
      "Requirement already satisfied: resampy>=0.2.2 in c:\\programdata\\anaconda3\\lib\\site-packages (from librosa==0.8.0->mplc) (0.2.2)\n",
      "Requirement already satisfied: pytz>=2017.2 in c:\\programdata\\anaconda3\\lib\\site-packages (from pandas==1.0.5->mplc) (2020.1)\n",
      "Requirement already satisfied: python-dateutil>=2.6.1 in c:\\programdata\\anaconda3\\lib\\site-packages (from pandas==1.0.5->mplc) (2.8.1)\n",
      "Requirement already satisfied: pyyaml in c:\\programdata\\anaconda3\\lib\\site-packages (from Keras==2.3.1->mplc) (5.3.1)\n",
      "Requirement already satisfied: keras_applications>=1.0.6 in c:\\programdata\\anaconda3\\lib\\site-packages (from Keras==2.3.1->mplc) (1.0.8)\n",
      "Collecting ruamel.yaml.clib>=0.1.2; platform_python_implementation == \"CPython\" and python_version < \"3.9\"\n",
      "  Using cached ruamel.yaml.clib-0.2.2-cp37-cp37m-win_amd64.whl (118 kB)\n",
      "Requirement already satisfied: pyparsing!=2.0.4,!=2.1.2,!=2.1.6,>=2.0.1 in c:\\programdata\\anaconda3\\lib\\site-packages (from matplotlib==3.1.3->mplc) (2.4.7)\n",
      "Requirement already satisfied: cycler>=0.10 in c:\\programdata\\anaconda3\\lib\\site-packages (from matplotlib==3.1.3->mplc) (0.10.0)\n",
      "Requirement already satisfied: kiwisolver>=1.0.1 in c:\\programdata\\anaconda3\\lib\\site-packages (from matplotlib==3.1.3->mplc) (1.3.0)\n",
      "Requirement already satisfied: google-auth-oauthlib<0.5,>=0.4.1 in c:\\users\\eric\\appdata\\roaming\\python\\python37\\site-packages (from tensorboard<2.3.0,>=2.2.0->tensorflow==2.2.1->mplc) (0.4.1)\n",
      "Requirement already satisfied: setuptools>=41.0.0 in c:\\programdata\\anaconda3\\lib\\site-packages (from tensorboard<2.3.0,>=2.2.0->tensorflow==2.2.1->mplc) (50.3.0.post20201103)\n",
      "Requirement already satisfied: markdown>=2.6.8 in c:\\programdata\\anaconda3\\lib\\site-packages (from tensorboard<2.3.0,>=2.2.0->tensorflow==2.2.1->mplc) (3.3.2)\n",
      "Requirement already satisfied: tensorboard-plugin-wit>=1.6.0 in c:\\users\\eric\\appdata\\roaming\\python\\python37\\site-packages (from tensorboard<2.3.0,>=2.2.0->tensorflow==2.2.1->mplc) (1.6.0.post3)\n",
      "Requirement already satisfied: google-auth<2,>=1.6.3 in c:\\users\\eric\\appdata\\roaming\\python\\python37\\site-packages (from tensorboard<2.3.0,>=2.2.0->tensorflow==2.2.1->mplc) (1.18.0)\n",
      "Requirement already satisfied: werkzeug>=0.11.15 in c:\\users\\eric\\appdata\\roaming\\python\\python37\\site-packages (from tensorboard<2.3.0,>=2.2.0->tensorflow==2.2.1->mplc) (1.0.1)\n",
      "Requirement already satisfied: requests<3,>=2.21.0 in c:\\users\\eric\\appdata\\roaming\\python\\python37\\site-packages (from tensorboard<2.3.0,>=2.2.0->tensorflow==2.2.1->mplc) (2.24.0)\n",
      "Requirement already satisfied: packaging in c:\\programdata\\anaconda3\\lib\\site-packages (from pooch>=1.0->librosa==0.8.0->mplc) (20.4)\n",
      "Requirement already satisfied: appdirs in c:\\programdata\\anaconda3\\lib\\site-packages (from pooch>=1.0->librosa==0.8.0->mplc) (1.4.4)\n",
      "Requirement already satisfied: cffi>=1.0 in c:\\programdata\\anaconda3\\lib\\site-packages (from soundfile>=0.9.0->librosa==0.8.0->mplc) (1.14.3)\n",
      "Requirement already satisfied: llvmlite<0.35,>=0.34.0.dev0 in c:\\programdata\\anaconda3\\lib\\site-packages (from numba>=0.43.0->librosa==0.8.0->mplc) (0.34.0)\n",
      "Requirement already satisfied: requests-oauthlib>=0.7.0 in c:\\users\\eric\\appdata\\roaming\\python\\python37\\site-packages (from google-auth-oauthlib<0.5,>=0.4.1->tensorboard<2.3.0,>=2.2.0->tensorflow==2.2.1->mplc) (1.3.0)\n",
      "Requirement already satisfied: importlib-metadata; python_version < \"3.8\" in c:\\programdata\\anaconda3\\lib\\site-packages (from markdown>=2.6.8->tensorboard<2.3.0,>=2.2.0->tensorflow==2.2.1->mplc) (2.0.0)\n",
      "Requirement already satisfied: pyasn1-modules>=0.2.1 in c:\\users\\eric\\appdata\\roaming\\python\\python37\\site-packages (from google-auth<2,>=1.6.3->tensorboard<2.3.0,>=2.2.0->tensorflow==2.2.1->mplc) (0.2.8)\n",
      "Requirement already satisfied: cachetools<5.0,>=2.0.0 in c:\\users\\eric\\appdata\\roaming\\python\\python37\\site-packages (from google-auth<2,>=1.6.3->tensorboard<2.3.0,>=2.2.0->tensorflow==2.2.1->mplc) (4.1.0)\n",
      "Requirement already satisfied: rsa<5,>=3.1.4; python_version >= \"3\" in c:\\users\\eric\\appdata\\roaming\\python\\python37\\site-packages (from google-auth<2,>=1.6.3->tensorboard<2.3.0,>=2.2.0->tensorflow==2.2.1->mplc) (4.6)\n",
      "Requirement already satisfied: certifi>=2017.4.17 in c:\\users\\eric\\appdata\\roaming\\python\\python37\\site-packages (from requests<3,>=2.21.0->tensorboard<2.3.0,>=2.2.0->tensorflow==2.2.1->mplc) (2020.4.5.2)\n",
      "Requirement already satisfied: idna<3,>=2.5 in c:\\users\\eric\\appdata\\roaming\\python\\python37\\site-packages (from requests<3,>=2.21.0->tensorboard<2.3.0,>=2.2.0->tensorflow==2.2.1->mplc) (2.9)\n",
      "Requirement already satisfied: chardet<4,>=3.0.2 in c:\\users\\eric\\appdata\\roaming\\python\\python37\\site-packages (from requests<3,>=2.21.0->tensorboard<2.3.0,>=2.2.0->tensorflow==2.2.1->mplc) (3.0.4)\n",
      "Requirement already satisfied: urllib3!=1.25.0,!=1.25.1,<1.26,>=1.21.1 in c:\\users\\eric\\appdata\\roaming\\python\\python37\\site-packages (from requests<3,>=2.21.0->tensorboard<2.3.0,>=2.2.0->tensorflow==2.2.1->mplc) (1.25.9)\n",
      "Requirement already satisfied: pycparser in c:\\programdata\\anaconda3\\lib\\site-packages (from cffi>=1.0->soundfile>=0.9.0->librosa==0.8.0->mplc) (2.20)\n",
      "Requirement already satisfied: oauthlib>=3.0.0 in c:\\users\\eric\\appdata\\roaming\\python\\python37\\site-packages (from requests-oauthlib>=0.7.0->google-auth-oauthlib<0.5,>=0.4.1->tensorboard<2.3.0,>=2.2.0->tensorflow==2.2.1->mplc) (3.1.0)\n",
      "Requirement already satisfied: zipp>=0.5 in c:\\programdata\\anaconda3\\lib\\site-packages (from importlib-metadata; python_version < \"3.8\"->markdown>=2.6.8->tensorboard<2.3.0,>=2.2.0->tensorflow==2.2.1->mplc) (3.4.0)\n",
      "Requirement already satisfied: pyasn1<0.5.0,>=0.4.6 in c:\\users\\eric\\appdata\\roaming\\python\\python37\\site-packages (from pyasn1-modules>=0.2.1->google-auth<2,>=1.6.3->tensorboard<2.3.0,>=2.2.0->tensorflow==2.2.1->mplc) (0.4.8)\n",
      "Installing collected packages: ruamel.yaml.clib, ruamel.yaml, mplc\n",
      "Successfully installed mplc-0.2 ruamel.yaml-0.16.10 ruamel.yaml.clib-0.2.2\n"
     ]
    }
   ],
   "source": [
    "!pip install mplc"
   ]
  },
  {
   "cell_type": "markdown",
   "metadata": {
    "colab_type": "text",
    "id": "FdlQm3XvBiOM"
   },
   "source": [
    "## 2 - Training parameters \n",
    "\n",
    "There are several parameters influencing how the collaborative and distributed learning is done over the datasets of the partners. The firsts we will be interested in are `epoch_count`, `minibatch_count`, and `gradient_updates_per_pass_count`. The following schema introduces well these definitions : \n",
    "\n",
    "\n",
    "![Schema epochs mini-batches gradient updates](../../img/epoch_minibatch_gradientupdates.png)\n",
    "\n",
    "After a training iteration over a given mini-batch, the individual models of each partner are aggregated in a way that can be parametrized by `aggregation_weighting`. Here, we use the default value `'uniform'`. See the [documentation](../../doc/documentation.md) for more details.\n",
    "\n",
    "The `multi_partner_learning_approach` parameter defines the multi-partner learning approach, among the different approaches implemented. The full list and description of the different approaches can be found in the [documentation](../../doc/documentation.md), here we will use the default value `'fedavg'`, which stands for federated averaging. It is described by the following schema:\n",
    "\n",
    "![Schema fedavg](../../img/collaborative_rounds_fedavg.png)\n",
    "\n",
    "For the purpose of this tutorial, we will change the default `epoch_count` and `minibatch_count` values to 10 epochs and 3 mini-batches."
   ]
  },
  {
   "cell_type": "code",
   "execution_count": 4,
   "metadata": {
    "colab": {
     "base_uri": "https://localhost:8080/",
     "height": 218
    },
    "colab_type": "code",
    "id": "iyMTIyinBiOM",
    "outputId": "a6676f6b-50d7-4f3d-98e7-688799895e3f"
   },
   "outputs": [
    {
     "name": "stdout",
     "output_type": "stream",
     "text": [
      "2020-11-05 18:16:29.795 | INFO     | mplc.dataset:shorten_dataset_proportion:79 - We don't use the full dataset: only 10.0%\n",
      "2020-11-05 18:16:29.843 | INFO     | mplc.scenario:__init__:365 - ### Description of data scenario configured:\n",
      "2020-11-05 18:16:29.843 | INFO     | mplc.scenario:__init__:366 -    Number of partners defined: 3\n",
      "2020-11-05 18:16:29.843 | INFO     | mplc.scenario:__init__:367 -    Data distribution scenario chosen: random\n",
      "2020-11-05 18:16:29.844 | INFO     | mplc.scenario:__init__:368 -    Multi-partner learning approach: <class 'mplc.multi_partner_learning.FederatedAverageLearning'>\n",
      "2020-11-05 18:16:29.844 | INFO     | mplc.scenario:__init__:369 -    Weighting option: <class 'mplc.mpl_utils.DataVolumeAggregator'>\n",
      "2020-11-05 18:16:29.845 | INFO     | mplc.scenario:__init__:370 -    Iterations parameters: 10 epochs > 3 mini-batches > 8 gradient updates per pass\n",
      "2020-11-05 18:16:29.845 | INFO     | mplc.scenario:__init__:376 - ### Data loaded: mnist\n",
      "2020-11-05 18:16:29.846 | INFO     | mplc.scenario:__init__:378 -    5400 train data with 5400 labels\n",
      "2020-11-05 18:16:29.846 | INFO     | mplc.scenario:__init__:381 -    600 val data with 600 labels\n",
      "2020-11-05 18:16:29.846 | INFO     | mplc.scenario:__init__:384 -    10000 test data with 10000 labels\n"
     ]
    }
   ],
   "source": [
    "from mplc.scenario import Scenario\n",
    "my_scenario = Scenario(partners_count = 3,\n",
    "                       amounts_per_partner = [0.2, 0.5, 0.3],\n",
    "                       epoch_count = 10,\n",
    "                       minibatch_count = 3,\n",
    "                       dataset_proportion = 0.1\n",
    "                       )"
   ]
  },
  {
   "cell_type": "markdown",
   "metadata": {
    "colab_type": "text",
    "id": "rVLFZNorddPk"
   },
   "source": [
    "## 3 - Run your scenario\n",
    "\n",
    "The actual training phase of our federated learning example! \n",
    "\n",
    "> Note: as `mplc` relies on tensorflow, you can use a GPU if you have one available. By default, `mplc` tries to initialize a GPU when imported."
   ]
  },
  {
   "cell_type": "code",
   "execution_count": 5,
   "metadata": {
    "colab": {
     "base_uri": "https://localhost:8080/",
     "height": 1000
    },
    "colab_type": "code",
    "id": "5HA_xIvsddPl",
    "outputId": "ea66feef-c405-4808-8c0e-82cbe043c348"
   },
   "outputs": [
    {
     "name": "stdout",
     "output_type": "stream",
     "text": [
      "2020-11-05 18:16:43.126 | INFO     | mplc.scenario:split_data:676 - ### Splitting data among partners:\n",
      "2020-11-05 18:16:43.126 | INFO     | mplc.scenario:split_data:677 -    Simple split performed.\n",
      "2020-11-05 18:16:43.126 | INFO     | mplc.scenario:split_data:679 -    Nb of samples split amongst partners: 4372\n",
      "2020-11-05 18:16:43.126 | INFO     | mplc.scenario:split_data:683 -    Partner #0: 874 samples with labels [0, 1, 2, 3, 4, 5, 6, 7, 8, 9]\n",
      "2020-11-05 18:16:43.126 | INFO     | mplc.scenario:split_data:683 -    Partner #1: 2186 samples with labels [0, 1, 2, 3, 4, 5, 6, 7, 8, 9]\n",
      "2020-11-05 18:16:43.126 | INFO     | mplc.scenario:split_data:683 -    Partner #2: 1312 samples with labels [0, 1, 2, 3, 4, 5, 6, 7, 8, 9]\n",
      "2020-11-05 18:16:45.454 | INFO     | mplc.multi_partner_learning:init_model:113 - Init new model\n",
      "2020-11-05 18:16:45.461 | INFO     | mplc.multi_partner_learning:__init__:81 - ## Preparation of model's training on partners with ids: ['#0', '#1', '#2']\n",
      "2020-11-05 18:16:45.479 | INFO     | mplc.multi_partner_learning:fit_minibatch:302 - (fedavg) Minibatch n°0 of epoch n°0, init each partner's models with a copy of the global model\n",
      "2020-11-05 18:16:52.318 | INFO     | mplc.multi_partner_learning:fit_minibatch:302 - (fedavg) Minibatch n°1 of epoch n°0, init each partner's models with a copy of the global model\n",
      "2020-11-05 18:16:59.109 | INFO     | mplc.multi_partner_learning:fit_minibatch:302 - (fedavg) Minibatch n°2 of epoch n°0, init each partner's models with a copy of the global model\n",
      "2020-11-05 18:16:59.542 | INFO     | mplc.multi_partner_learning:eval_and_log_model_val_perf:153 -    Model evaluation at the end of the epoch: ['0.588', '0.807']\n",
      "2020-11-05 18:17:06.837 | INFO     | mplc.multi_partner_learning:fit_minibatch:302 - (fedavg) Minibatch n°0 of epoch n°1, init each partner's models with a copy of the global model\n",
      "2020-11-05 18:17:12.891 | INFO     | mplc.multi_partner_learning:fit_minibatch:302 - (fedavg) Minibatch n°1 of epoch n°1, init each partner's models with a copy of the global model\n",
      "2020-11-05 18:17:18.719 | INFO     | mplc.multi_partner_learning:fit_minibatch:302 - (fedavg) Minibatch n°2 of epoch n°1, init each partner's models with a copy of the global model\n",
      "2020-11-05 18:17:19.050 | INFO     | mplc.multi_partner_learning:eval_and_log_model_val_perf:153 -    Model evaluation at the end of the epoch: ['0.304', '0.913']\n",
      "2020-11-05 18:17:24.198 | INFO     | mplc.multi_partner_learning:fit_minibatch:302 - (fedavg) Minibatch n°0 of epoch n°2, init each partner's models with a copy of the global model\n",
      "2020-11-05 18:17:29.719 | INFO     | mplc.multi_partner_learning:fit_minibatch:302 - (fedavg) Minibatch n°1 of epoch n°2, init each partner's models with a copy of the global model\n",
      "2020-11-05 18:17:37.609 | INFO     | mplc.multi_partner_learning:fit_minibatch:302 - (fedavg) Minibatch n°2 of epoch n°2, init each partner's models with a copy of the global model\n",
      "2020-11-05 18:17:37.980 | INFO     | mplc.multi_partner_learning:eval_and_log_model_val_perf:153 -    Model evaluation at the end of the epoch: ['0.187', '0.943']\n",
      "2020-11-05 18:17:43.456 | INFO     | mplc.multi_partner_learning:fit_minibatch:302 - (fedavg) Minibatch n°0 of epoch n°3, init each partner's models with a copy of the global model\n",
      "2020-11-05 18:17:49.145 | INFO     | mplc.multi_partner_learning:fit_minibatch:302 - (fedavg) Minibatch n°1 of epoch n°3, init each partner's models with a copy of the global model\n",
      "2020-11-05 18:17:54.501 | INFO     | mplc.multi_partner_learning:fit_minibatch:302 - (fedavg) Minibatch n°2 of epoch n°3, init each partner's models with a copy of the global model\n",
      "2020-11-05 18:17:54.879 | INFO     | mplc.multi_partner_learning:eval_and_log_model_val_perf:153 -    Model evaluation at the end of the epoch: ['0.150', '0.955']\n",
      "2020-11-05 18:18:00.519 | INFO     | mplc.multi_partner_learning:fit_minibatch:302 - (fedavg) Minibatch n°0 of epoch n°4, init each partner's models with a copy of the global model\n",
      "2020-11-05 18:18:06.705 | INFO     | mplc.multi_partner_learning:fit_minibatch:302 - (fedavg) Minibatch n°1 of epoch n°4, init each partner's models with a copy of the global model\n",
      "2020-11-05 18:18:12.115 | INFO     | mplc.multi_partner_learning:fit_minibatch:302 - (fedavg) Minibatch n°2 of epoch n°4, init each partner's models with a copy of the global model\n",
      "2020-11-05 18:18:12.489 | INFO     | mplc.multi_partner_learning:eval_and_log_model_val_perf:153 -    Model evaluation at the end of the epoch: ['0.116', '0.963']\n",
      "2020-11-05 18:18:17.629 | INFO     | mplc.multi_partner_learning:fit_minibatch:302 - (fedavg) Minibatch n°0 of epoch n°5, init each partner's models with a copy of the global model\n",
      "2020-11-05 18:18:23.309 | INFO     | mplc.multi_partner_learning:fit_minibatch:302 - (fedavg) Minibatch n°1 of epoch n°5, init each partner's models with a copy of the global model\n",
      "2020-11-05 18:18:28.799 | INFO     | mplc.multi_partner_learning:fit_minibatch:302 - (fedavg) Minibatch n°2 of epoch n°5, init each partner's models with a copy of the global model\n",
      "2020-11-05 18:18:29.171 | INFO     | mplc.multi_partner_learning:eval_and_log_model_val_perf:153 -    Model evaluation at the end of the epoch: ['0.115', '0.962']\n",
      "2020-11-05 18:18:34.588 | INFO     | mplc.multi_partner_learning:fit_minibatch:302 - (fedavg) Minibatch n°0 of epoch n°6, init each partner's models with a copy of the global model\n",
      "2020-11-05 18:18:40.587 | INFO     | mplc.multi_partner_learning:fit_minibatch:302 - (fedavg) Minibatch n°1 of epoch n°6, init each partner's models with a copy of the global model\n",
      "2020-11-05 18:18:46.244 | INFO     | mplc.multi_partner_learning:fit_minibatch:302 - (fedavg) Minibatch n°2 of epoch n°6, init each partner's models with a copy of the global model\n",
      "2020-11-05 18:18:46.591 | INFO     | mplc.multi_partner_learning:eval_and_log_model_val_perf:153 -    Model evaluation at the end of the epoch: ['0.107', '0.970']\n",
      "2020-11-05 18:18:52.356 | INFO     | mplc.multi_partner_learning:fit_minibatch:302 - (fedavg) Minibatch n°0 of epoch n°7, init each partner's models with a copy of the global model\n",
      "2020-11-05 18:18:57.707 | INFO     | mplc.multi_partner_learning:fit_minibatch:302 - (fedavg) Minibatch n°1 of epoch n°7, init each partner's models with a copy of the global model\n",
      "2020-11-05 18:19:02.788 | INFO     | mplc.multi_partner_learning:fit_minibatch:302 - (fedavg) Minibatch n°2 of epoch n°7, init each partner's models with a copy of the global model\n",
      "2020-11-05 18:19:03.137 | INFO     | mplc.multi_partner_learning:eval_and_log_model_val_perf:153 -    Model evaluation at the end of the epoch: ['0.101', '0.967']\n",
      "2020-11-05 18:19:08.184 | INFO     | mplc.multi_partner_learning:fit_minibatch:302 - (fedavg) Minibatch n°0 of epoch n°8, init each partner's models with a copy of the global model\n",
      "2020-11-05 18:19:13.376 | INFO     | mplc.multi_partner_learning:fit_minibatch:302 - (fedavg) Minibatch n°1 of epoch n°8, init each partner's models with a copy of the global model\n",
      "2020-11-05 18:19:18.884 | INFO     | mplc.multi_partner_learning:fit_minibatch:302 - (fedavg) Minibatch n°2 of epoch n°8, init each partner's models with a copy of the global model\n",
      "2020-11-05 18:19:19.244 | INFO     | mplc.multi_partner_learning:eval_and_log_model_val_perf:153 -    Model evaluation at the end of the epoch: ['0.092', '0.977']\n",
      "2020-11-05 18:19:24.491 | INFO     | mplc.multi_partner_learning:fit_minibatch:302 - (fedavg) Minibatch n°0 of epoch n°9, init each partner's models with a copy of the global model\n",
      "2020-11-05 18:19:30.107 | INFO     | mplc.multi_partner_learning:fit_minibatch:302 - (fedavg) Minibatch n°1 of epoch n°9, init each partner's models with a copy of the global model\n",
      "2020-11-05 18:19:35.503 | INFO     | mplc.multi_partner_learning:fit_minibatch:302 - (fedavg) Minibatch n°2 of epoch n°9, init each partner's models with a copy of the global model\n",
      "2020-11-05 18:19:35.879 | INFO     | mplc.multi_partner_learning:eval_and_log_model_val_perf:153 -    Model evaluation at the end of the epoch: ['0.088', '0.967']\n",
      "2020-11-05 18:19:40.725 | INFO     | mplc.multi_partner_learning:eval_and_log_final_model__test_perf:157 - ### Evaluating model on test data:\n",
      "2020-11-05 18:19:44.507 | INFO     | mplc.multi_partner_learning:eval_and_log_final_model__test_perf:166 -    Model metrics names: ['loss', 'accuracy']\n"
     ]
    },
    {
     "name": "stdout",
     "output_type": "stream",
     "text": [
      "2020-11-05 18:19:44.508 | INFO     | mplc.multi_partner_learning:eval_and_log_final_model__test_perf:167 -    Model metrics values: ['0.110', '0.969']\n",
      "2020-11-05 18:19:44.746 | INFO     | mplc.multi_partner_learning:fit:211 - Training and evaluation on multiple partners: done. (179.283 seconds)\n"
     ]
    },
    {
     "data": {
      "text/plain": [
       "0"
      ]
     },
     "execution_count": 5,
     "metadata": {},
     "output_type": "execute_result"
    }
   ],
   "source": [
    "my_scenario.run()"
   ]
  },
  {
   "cell_type": "markdown",
   "metadata": {
    "colab_type": "text",
    "id": "MeWcWlC5ddPn"
   },
   "source": [
    "## 4 - Explore the results\n",
    "\n",
    "A scenario can be exported to dataframe format, to see the different parameters and the results of the computations: "
   ]
  },
  {
   "cell_type": "code",
   "execution_count": 6,
   "metadata": {
    "colab": {
     "base_uri": "https://localhost:8080/",
     "height": 114
    },
    "colab_type": "code",
    "id": "X67YaGm3ddPn",
    "outputId": "b4f5fe49-64f8-4ddb-f6a4-12a48672c508",
    "scrolled": true
   },
   "outputs": [
    {
     "data": {
      "text/html": [
       "<div>\n",
       "<style scoped>\n",
       "    .dataframe tbody tr th:only-of-type {\n",
       "        vertical-align: middle;\n",
       "    }\n",
       "\n",
       "    .dataframe tbody tr th {\n",
       "        vertical-align: top;\n",
       "    }\n",
       "\n",
       "    .dataframe thead th {\n",
       "        text-align: right;\n",
       "    }\n",
       "</style>\n",
       "<table border=\"1\" class=\"dataframe\">\n",
       "  <thead>\n",
       "    <tr style=\"text-align: right;\">\n",
       "      <th></th>\n",
       "      <th>aggregation</th>\n",
       "      <th>dataset_fraction_per_partner</th>\n",
       "      <th>dataset_name</th>\n",
       "      <th>epoch_count</th>\n",
       "      <th>final_relative_nb_samples</th>\n",
       "      <th>gradient_updates_per_pass_count</th>\n",
       "      <th>is_early_stopping</th>\n",
       "      <th>learning_computation_time_sec</th>\n",
       "      <th>minibatch_count</th>\n",
       "      <th>mpl_nb_epochs_done</th>\n",
       "      <th>mpl_test_score</th>\n",
       "      <th>multi_partner_learning_approach</th>\n",
       "      <th>nb_samples_used</th>\n",
       "      <th>partners_count</th>\n",
       "      <th>samples_split_description</th>\n",
       "      <th>scenario_name</th>\n",
       "      <th>short_scenario_name</th>\n",
       "      <th>test_data_samples_count</th>\n",
       "      <th>train_data_samples_count</th>\n",
       "    </tr>\n",
       "  </thead>\n",
       "  <tbody>\n",
       "    <tr>\n",
       "      <th>0</th>\n",
       "      <td>&lt;class 'mplc.mpl_utils.DataVolumeAggregator'&gt;</td>\n",
       "      <td>[0.2, 0.5, 0.3]</td>\n",
       "      <td>mnist</td>\n",
       "      <td>10.0</td>\n",
       "      <td>[0.19990850869167429, 0.5, 0.3000914913083257]</td>\n",
       "      <td>8.0</td>\n",
       "      <td>1.0</td>\n",
       "      <td>179.282837</td>\n",
       "      <td>3.0</td>\n",
       "      <td>11.0</td>\n",
       "      <td>0.969</td>\n",
       "      <td>&lt;class 'mplc.multi_partner_learning.FederatedA...</td>\n",
       "      <td>4372.0</td>\n",
       "      <td>3.0</td>\n",
       "      <td>random</td>\n",
       "      <td>scenario_1_repeat_1_2020-11-05_18h16_a3a</td>\n",
       "      <td>3 [0.2, 0.5, 0.3]</td>\n",
       "      <td>10000.0</td>\n",
       "      <td>5400.0</td>\n",
       "    </tr>\n",
       "  </tbody>\n",
       "</table>\n",
       "</div>"
      ],
      "text/plain": [
       "                                     aggregation dataset_fraction_per_partner  \\\n",
       "0  <class 'mplc.mpl_utils.DataVolumeAggregator'>              [0.2, 0.5, 0.3]   \n",
       "\n",
       "  dataset_name  epoch_count                       final_relative_nb_samples  \\\n",
       "0        mnist         10.0  [0.19990850869167429, 0.5, 0.3000914913083257]   \n",
       "\n",
       "   gradient_updates_per_pass_count  is_early_stopping  \\\n",
       "0                              8.0                1.0   \n",
       "\n",
       "   learning_computation_time_sec  minibatch_count  mpl_nb_epochs_done  \\\n",
       "0                     179.282837              3.0                11.0   \n",
       "\n",
       "   mpl_test_score                    multi_partner_learning_approach  \\\n",
       "0           0.969  <class 'mplc.multi_partner_learning.FederatedA...   \n",
       "\n",
       "   nb_samples_used  partners_count samples_split_description  \\\n",
       "0           4372.0             3.0                    random   \n",
       "\n",
       "                              scenario_name short_scenario_name  \\\n",
       "0  scenario_1_repeat_1_2020-11-05_18h16_a3a   3 [0.2, 0.5, 0.3]   \n",
       "\n",
       "   test_data_samples_count  train_data_samples_count  \n",
       "0                  10000.0                    5400.0  "
      ]
     },
     "execution_count": 6,
     "metadata": {},
     "output_type": "execute_result"
    }
   ],
   "source": [
    "import numpy as np\n",
    "import pandas as pd\n",
    "import seaborn as sns\n",
    "import matplotlib.pyplot as plt\n",
    "sns.set()\n",
    "\n",
    "df_results = my_scenario.to_dataframe()\n",
    "df_results.head()"
   ]
  },
  {
   "cell_type": "markdown",
   "metadata": {
    "colab_type": "text",
    "id": "XW_EH1fxddPp"
   },
   "source": [
    " First, our federated model score (evaluated on the global test set):"
   ]
  },
  {
   "cell_type": "code",
   "execution_count": 7,
   "metadata": {
    "colab": {
     "base_uri": "https://localhost:8080/",
     "height": 50
    },
    "colab_type": "code",
    "id": "hUBKGXfXddPp",
    "outputId": "0bf25f09-9a27-4097-c9f2-ddb84766e21a"
   },
   "outputs": [
    {
     "name": "stdout",
     "output_type": "stream",
     "text": [
      "Approach used : <class 'mplc.multi_partner_learning.FederatedAverageLearning'>\n",
      "Model accuracy : 0.968999981880188\n"
     ]
    }
   ],
   "source": [
    "print(\"Approach used :\", df_results.multi_partner_learning_approach[0])\n",
    "print(\"Model accuracy :\", df_results.mpl_test_score[0])"
   ]
  },
  {
   "cell_type": "markdown",
   "metadata": {},
   "source": [
    "Let's see how our loss looks (here the loss is computed on the global validation set):"
   ]
  },
  {
   "cell_type": "code",
   "execution_count": 8,
   "metadata": {},
   "outputs": [
    {
     "data": {
      "text/plain": [
       "Text(0.5, 1.0, 'Loss on the collaborative model')"
      ]
     },
     "execution_count": 8,
     "metadata": {},
     "output_type": "execute_result"
    },
    {
     "data": {
      "image/png": "[encoded data removed]",
      "text/plain": [
       "<Figure size 432x288 with 1 Axes>"
      ]
     },
     "metadata": {},
     "output_type": "display_data"
    }
   ],
   "source": [
    "losses = my_scenario.mpl.history.history['mpl_model']['val_loss'][:,-1]  # All the epoch, and the last minibatch\n",
    "epochs = np.arange(my_scenario.epoch_count)\n",
    "ax = plt.plot(epochs, losses)\n",
    "plt.xlabel('epochs')\n",
    "plt.ylabel('loss')\n",
    "plt.title('Loss on the collaborative model')"
   ]
  },
  {
   "cell_type": "markdown",
   "metadata": {},
   "source": [
    "You could also be interested for example by the behaviour of the accuracy score of each partner along the epochs of the training.\n",
    "These information are stored in the `history.history` dictionary. The structure of the dictionary is the following : score\\[partner_id]\\[metric_key][epoch_index, minibatch_index\\]\n",
    "\n",
    "The available metric_key are `'accuracy'`, `'loss'`, `'val_accuracy'`, `'val_loss'`. Metrics prefixed with `'val_'` are computed on validation dataset, and the other on the training dataset.\n",
    "\n",
    "For instance, if you want the accuracy on the training dataset for the partner 1 at the epoch 5, minibatch 0, you can use the following code:"
   ]
  },
  {
   "cell_type": "code",
   "execution_count": 9,
   "metadata": {
    "pycharm": {
     "name": "#%%\n"
    }
   },
   "outputs": [
    {
     "data": {
      "text/plain": [
       "0.9711538553237915"
      ]
     },
     "execution_count": 9,
     "metadata": {},
     "output_type": "execute_result"
    }
   ],
   "source": [
    "my_scenario.mpl.history.history[1]['accuracy'][5,0]"
   ]
  },
  {
   "cell_type": "markdown",
   "metadata": {
    "pycharm": {
     "name": "#%% md\n"
    }
   },
   "source": [
    "Another key available on the dictionary, at the partner level, is `'mpl_model'`. You can use it to access to the `'val_accuracy'`, `'val_loss'` computed with the global model, at the end of each minibatch.\n",
    "\n",
    "As this object is quite complex to handle, and advanced analysis can be tricky to compute on it, this object can be converted to a more user-friendly pandas DataFrame."
   ]
  },
  {
   "cell_type": "code",
   "execution_count": 10,
   "metadata": {},
   "outputs": [
    {
     "data": {
      "text/html": [
       "<div>\n",
       "<style scoped>\n",
       "    .dataframe tbody tr th:only-of-type {\n",
       "        vertical-align: middle;\n",
       "    }\n",
       "\n",
       "    .dataframe tbody tr th {\n",
       "        vertical-align: top;\n",
       "    }\n",
       "\n",
       "    .dataframe thead tr th {\n",
       "        text-align: left;\n",
       "    }\n",
       "\n",
       "    .dataframe thead tr:last-of-type th {\n",
       "        text-align: right;\n",
       "    }\n",
       "</style>\n",
       "<table border=\"1\" class=\"dataframe\">\n",
       "  <thead>\n",
       "    <tr>\n",
       "      <th></th>\n",
       "      <th colspan=\"8\" halign=\"left\">Epoch</th>\n",
       "      <th colspan=\"2\" halign=\"left\">Minibatch</th>\n",
       "      <th>...</th>\n",
       "      <th colspan=\"2\" halign=\"left\">loss</th>\n",
       "      <th colspan=\"8\" halign=\"left\">accuracy</th>\n",
       "    </tr>\n",
       "    <tr>\n",
       "      <th></th>\n",
       "      <th>count</th>\n",
       "      <th>mean</th>\n",
       "      <th>std</th>\n",
       "      <th>min</th>\n",
       "      <th>25%</th>\n",
       "      <th>50%</th>\n",
       "      <th>75%</th>\n",
       "      <th>max</th>\n",
       "      <th>count</th>\n",
       "      <th>mean</th>\n",
       "      <th>...</th>\n",
       "      <th>75%</th>\n",
       "      <th>max</th>\n",
       "      <th>count</th>\n",
       "      <th>mean</th>\n",
       "      <th>std</th>\n",
       "      <th>min</th>\n",
       "      <th>25%</th>\n",
       "      <th>50%</th>\n",
       "      <th>75%</th>\n",
       "      <th>max</th>\n",
       "    </tr>\n",
       "    <tr>\n",
       "      <th>Partner</th>\n",
       "      <th></th>\n",
       "      <th></th>\n",
       "      <th></th>\n",
       "      <th></th>\n",
       "      <th></th>\n",
       "      <th></th>\n",
       "      <th></th>\n",
       "      <th></th>\n",
       "      <th></th>\n",
       "      <th></th>\n",
       "      <th></th>\n",
       "      <th></th>\n",
       "      <th></th>\n",
       "      <th></th>\n",
       "      <th></th>\n",
       "      <th></th>\n",
       "      <th></th>\n",
       "      <th></th>\n",
       "      <th></th>\n",
       "      <th></th>\n",
       "      <th></th>\n",
       "    </tr>\n",
       "  </thead>\n",
       "  <tbody>\n",
       "    <tr>\n",
       "      <th>0</th>\n",
       "      <td>30.0</td>\n",
       "      <td>4.5</td>\n",
       "      <td>2.921384</td>\n",
       "      <td>0.0</td>\n",
       "      <td>2.0</td>\n",
       "      <td>4.5</td>\n",
       "      <td>7.0</td>\n",
       "      <td>9.0</td>\n",
       "      <td>30.0</td>\n",
       "      <td>1.0</td>\n",
       "      <td>...</td>\n",
       "      <td>0.266416</td>\n",
       "      <td>2.038685</td>\n",
       "      <td>30.0</td>\n",
       "      <td>0.913816</td>\n",
       "      <td>0.135609</td>\n",
       "      <td>0.302406</td>\n",
       "      <td>0.917526</td>\n",
       "      <td>0.962199</td>\n",
       "      <td>0.979381</td>\n",
       "      <td>0.989691</td>\n",
       "    </tr>\n",
       "    <tr>\n",
       "      <th>1</th>\n",
       "      <td>30.0</td>\n",
       "      <td>4.5</td>\n",
       "      <td>2.921384</td>\n",
       "      <td>0.0</td>\n",
       "      <td>2.0</td>\n",
       "      <td>4.5</td>\n",
       "      <td>7.0</td>\n",
       "      <td>9.0</td>\n",
       "      <td>30.0</td>\n",
       "      <td>1.0</td>\n",
       "      <td>...</td>\n",
       "      <td>0.270911</td>\n",
       "      <td>1.847432</td>\n",
       "      <td>30.0</td>\n",
       "      <td>0.925197</td>\n",
       "      <td>0.109396</td>\n",
       "      <td>0.457418</td>\n",
       "      <td>0.924211</td>\n",
       "      <td>0.962277</td>\n",
       "      <td>0.980789</td>\n",
       "      <td>0.995879</td>\n",
       "    </tr>\n",
       "    <tr>\n",
       "      <th>2</th>\n",
       "      <td>30.0</td>\n",
       "      <td>4.5</td>\n",
       "      <td>2.921384</td>\n",
       "      <td>0.0</td>\n",
       "      <td>2.0</td>\n",
       "      <td>4.5</td>\n",
       "      <td>7.0</td>\n",
       "      <td>9.0</td>\n",
       "      <td>30.0</td>\n",
       "      <td>1.0</td>\n",
       "      <td>...</td>\n",
       "      <td>0.231564</td>\n",
       "      <td>1.852676</td>\n",
       "      <td>30.0</td>\n",
       "      <td>0.923771</td>\n",
       "      <td>0.104626</td>\n",
       "      <td>0.478261</td>\n",
       "      <td>0.932044</td>\n",
       "      <td>0.961098</td>\n",
       "      <td>0.979405</td>\n",
       "      <td>0.990847</td>\n",
       "    </tr>\n",
       "  </tbody>\n",
       "</table>\n",
       "<p>3 rows × 48 columns</p>\n",
       "</div>"
      ],
      "text/plain": [
       "        Epoch                                         Minibatch       ...  \\\n",
       "        count mean       std  min  25%  50%  75%  max     count mean  ...   \n",
       "Partner                                                               ...   \n",
       "0        30.0  4.5  2.921384  0.0  2.0  4.5  7.0  9.0      30.0  1.0  ...   \n",
       "1        30.0  4.5  2.921384  0.0  2.0  4.5  7.0  9.0      30.0  1.0  ...   \n",
       "2        30.0  4.5  2.921384  0.0  2.0  4.5  7.0  9.0      30.0  1.0  ...   \n",
       "\n",
       "             loss           accuracy                                          \\\n",
       "              75%       max    count      mean       std       min       25%   \n",
       "Partner                                                                        \n",
       "0        0.266416  2.038685     30.0  0.913816  0.135609  0.302406  0.917526   \n",
       "1        0.270911  1.847432     30.0  0.925197  0.109396  0.457418  0.924211   \n",
       "2        0.231564  1.852676     30.0  0.923771  0.104626  0.478261  0.932044   \n",
       "\n",
       "                                       \n",
       "              50%       75%       max  \n",
       "Partner                                \n",
       "0        0.962199  0.979381  0.989691  \n",
       "1        0.962277  0.980789  0.995879  \n",
       "2        0.961098  0.979405  0.990847  \n",
       "\n",
       "[3 rows x 48 columns]"
      ]
     },
     "execution_count": 10,
     "metadata": {},
     "output_type": "execute_result"
    }
   ],
   "source": [
    "history_df = my_scenario.mpl.history.partners_to_dataframe()\n",
    "history_df.groupby(\"Model\").describe()"
   ]
  },
  {
   "cell_type": "markdown",
   "metadata": {
    "pycharm": {
     "name": "#%% md\n"
    }
   },
   "source": [
    "With this dataframe advanced analysis of results gets easier.\n",
    "For example, we could wonder what is the validation loss per partner along the epochs ? (on the last minibatch of each epoch):"
   ]
  },
  {
   "cell_type": "code",
   "execution_count": 11,
   "metadata": {},
   "outputs": [
    {
     "data": {
      "text/html": [
       "<div>\n",
       "<style scoped>\n",
       "    .dataframe tbody tr th:only-of-type {\n",
       "        vertical-align: middle;\n",
       "    }\n",
       "\n",
       "    .dataframe tbody tr th {\n",
       "        vertical-align: top;\n",
       "    }\n",
       "\n",
       "    .dataframe thead th {\n",
       "        text-align: right;\n",
       "    }\n",
       "</style>\n",
       "<table border=\"1\" class=\"dataframe\">\n",
       "  <thead>\n",
       "    <tr style=\"text-align: right;\">\n",
       "      <th>Partner</th>\n",
       "      <th>0</th>\n",
       "      <th>1</th>\n",
       "      <th>2</th>\n",
       "    </tr>\n",
       "    <tr>\n",
       "      <th>Epoch</th>\n",
       "      <th></th>\n",
       "      <th></th>\n",
       "      <th></th>\n",
       "    </tr>\n",
       "  </thead>\n",
       "  <tbody>\n",
       "    <tr>\n",
       "      <th>0</th>\n",
       "      <td>0.582495</td>\n",
       "      <td>0.537675</td>\n",
       "      <td>0.604793</td>\n",
       "    </tr>\n",
       "    <tr>\n",
       "      <th>1</th>\n",
       "      <td>0.338922</td>\n",
       "      <td>0.377984</td>\n",
       "      <td>0.329797</td>\n",
       "    </tr>\n",
       "    <tr>\n",
       "      <th>2</th>\n",
       "      <td>0.248753</td>\n",
       "      <td>0.162365</td>\n",
       "      <td>0.196594</td>\n",
       "    </tr>\n",
       "    <tr>\n",
       "      <th>3</th>\n",
       "      <td>0.245737</td>\n",
       "      <td>0.154633</td>\n",
       "      <td>0.159246</td>\n",
       "    </tr>\n",
       "    <tr>\n",
       "      <th>4</th>\n",
       "      <td>0.157987</td>\n",
       "      <td>0.133917</td>\n",
       "      <td>0.174020</td>\n",
       "    </tr>\n",
       "    <tr>\n",
       "      <th>5</th>\n",
       "      <td>0.197084</td>\n",
       "      <td>0.142127</td>\n",
       "      <td>0.143660</td>\n",
       "    </tr>\n",
       "    <tr>\n",
       "      <th>6</th>\n",
       "      <td>0.159842</td>\n",
       "      <td>0.120599</td>\n",
       "      <td>0.133160</td>\n",
       "    </tr>\n",
       "    <tr>\n",
       "      <th>7</th>\n",
       "      <td>0.156166</td>\n",
       "      <td>0.126364</td>\n",
       "      <td>0.165758</td>\n",
       "    </tr>\n",
       "    <tr>\n",
       "      <th>8</th>\n",
       "      <td>0.115931</td>\n",
       "      <td>0.190441</td>\n",
       "      <td>0.096710</td>\n",
       "    </tr>\n",
       "    <tr>\n",
       "      <th>9</th>\n",
       "      <td>0.164186</td>\n",
       "      <td>0.104885</td>\n",
       "      <td>0.111018</td>\n",
       "    </tr>\n",
       "  </tbody>\n",
       "</table>\n",
       "</div>"
      ],
      "text/plain": [
       "Partner         0         1         2\n",
       "Epoch                                \n",
       "0        0.582495  0.537675  0.604793\n",
       "1        0.338922  0.377984  0.329797\n",
       "2        0.248753  0.162365  0.196594\n",
       "3        0.245737  0.154633  0.159246\n",
       "4        0.157987  0.133917  0.174020\n",
       "5        0.197084  0.142127  0.143660\n",
       "6        0.159842  0.120599  0.133160\n",
       "7        0.156166  0.126364  0.165758\n",
       "8        0.115931  0.190441  0.096710\n",
       "9        0.164186  0.104885  0.111018"
      ]
     },
     "execution_count": 11,
     "metadata": {},
     "output_type": "execute_result"
    }
   ],
   "source": [
    "losses_per_partners = history_df[history_df.Minibatch==2].pivot(index='Epoch', columns='Model', values='val_loss')\n",
    "losses_per_partners"
   ]
  },
  {
   "cell_type": "markdown",
   "metadata": {},
   "source": [
    "Nice graphics are always more comfortable than raw dataframe, so let's plot it:"
   ]
  },
  {
   "cell_type": "code",
   "execution_count": 12,
   "metadata": {},
   "outputs": [
    {
     "data": {
      "text/plain": [
       "<seaborn.axisgrid.FacetGrid at 0x20384bad648>"
      ]
     },
     "execution_count": 12,
     "metadata": {},
     "output_type": "execute_result"
    },
    {
     "data": {
      "image/png": "[encoded data removed]",
      "text/plain": [
       "<Figure size 405.725x360 with 1 Axes>"
      ]
     },
     "metadata": {},
     "output_type": "display_data"
    }
   ],
   "source": [
    "ax = sns.relplot(data=losses_per_partners, kind=\"line\")\n",
    "ax.set(xlabel='epochs', ylabel='Loss', title='Losses evolution through the epochs')"
   ]
  },
  {
   "cell_type": "markdown",
   "metadata": {},
   "source": [
    "What about the accuracy ? On the validation dataset:"
   ]
  },
  {
   "cell_type": "code",
   "execution_count": 28,
   "metadata": {},
   "outputs": [
    {
     "data": {
      "text/plain": [
       "<seaborn.axisgrid.FacetGrid at 0x203829b7208>"
      ]
     },
     "execution_count": 28,
     "metadata": {},
     "output_type": "execute_result"
    },
    {
     "data": {
      "image/png": "[encoded data removed]",
      "text/plain": [
       "<Figure size 405.725x360 with 1 Axes>"
      ]
     },
     "metadata": {},
     "output_type": "display_data"
    }
   ],
   "source": [
    "acc_per_partner = history_df[history_df.Minibatch==2].pivot(index='Epoch', columns='Model', values='val_accuracy')\n",
    "ax = sns.relplot(data=acc_per_partner, kind=\"line\")\n",
    "ax.set(xlabel='epochs', ylabel='accuracy', title='Accuracy evolution through the epochs')"
   ]
  },
  {
   "cell_type": "markdown",
   "metadata": {
    "pycharm": {
     "name": "#%% md\n"
    }
   },
   "source": [
    "Another interesting result could be the behaviour of the collective model, compared to the partners' models:"
   ]
  },
  {
   "cell_type": "code",
   "execution_count": 29,
   "metadata": {
    "pycharm": {
     "name": "#%%\n"
    }
   },
   "outputs": [
    {
     "data": {
      "text/html": [
       "<div>\n",
       "<style scoped>\n",
       "    .dataframe tbody tr th:only-of-type {\n",
       "        vertical-align: middle;\n",
       "    }\n",
       "\n",
       "    .dataframe tbody tr th {\n",
       "        vertical-align: top;\n",
       "    }\n",
       "\n",
       "    .dataframe thead th {\n",
       "        text-align: right;\n",
       "    }\n",
       "</style>\n",
       "<table border=\"1\" class=\"dataframe\">\n",
       "  <thead>\n",
       "    <tr style=\"text-align: right;\">\n",
       "      <th>Partner</th>\n",
       "      <th>0</th>\n",
       "      <th>1</th>\n",
       "      <th>2</th>\n",
       "      <th>collective model</th>\n",
       "    </tr>\n",
       "    <tr>\n",
       "      <th>Epoch</th>\n",
       "      <th></th>\n",
       "      <th></th>\n",
       "      <th></th>\n",
       "      <th></th>\n",
       "    </tr>\n",
       "  </thead>\n",
       "  <tbody>\n",
       "    <tr>\n",
       "      <th>0</th>\n",
       "      <td>0.803333</td>\n",
       "      <td>0.820000</td>\n",
       "      <td>0.811667</td>\n",
       "      <td>0.806667</td>\n",
       "    </tr>\n",
       "    <tr>\n",
       "      <th>1</th>\n",
       "      <td>0.880000</td>\n",
       "      <td>0.886667</td>\n",
       "      <td>0.896667</td>\n",
       "      <td>0.913333</td>\n",
       "    </tr>\n",
       "    <tr>\n",
       "      <th>2</th>\n",
       "      <td>0.903333</td>\n",
       "      <td>0.950000</td>\n",
       "      <td>0.938333</td>\n",
       "      <td>0.943333</td>\n",
       "    </tr>\n",
       "    <tr>\n",
       "      <th>3</th>\n",
       "      <td>0.918333</td>\n",
       "      <td>0.955000</td>\n",
       "      <td>0.946667</td>\n",
       "      <td>0.955000</td>\n",
       "    </tr>\n",
       "    <tr>\n",
       "      <th>4</th>\n",
       "      <td>0.953333</td>\n",
       "      <td>0.941667</td>\n",
       "      <td>0.945000</td>\n",
       "      <td>0.963333</td>\n",
       "    </tr>\n",
       "    <tr>\n",
       "      <th>5</th>\n",
       "      <td>0.940000</td>\n",
       "      <td>0.958333</td>\n",
       "      <td>0.951667</td>\n",
       "      <td>0.961667</td>\n",
       "    </tr>\n",
       "    <tr>\n",
       "      <th>6</th>\n",
       "      <td>0.948333</td>\n",
       "      <td>0.963333</td>\n",
       "      <td>0.963333</td>\n",
       "      <td>0.970000</td>\n",
       "    </tr>\n",
       "    <tr>\n",
       "      <th>7</th>\n",
       "      <td>0.951667</td>\n",
       "      <td>0.966667</td>\n",
       "      <td>0.943333</td>\n",
       "      <td>0.966667</td>\n",
       "    </tr>\n",
       "    <tr>\n",
       "      <th>8</th>\n",
       "      <td>0.963333</td>\n",
       "      <td>0.940000</td>\n",
       "      <td>0.966667</td>\n",
       "      <td>0.976667</td>\n",
       "    </tr>\n",
       "    <tr>\n",
       "      <th>9</th>\n",
       "      <td>0.956667</td>\n",
       "      <td>0.966667</td>\n",
       "      <td>0.970000</td>\n",
       "      <td>0.966667</td>\n",
       "    </tr>\n",
       "  </tbody>\n",
       "</table>\n",
       "</div>"
      ],
      "text/plain": [
       "Partner         0         1         2  collective model\n",
       "Epoch                                                  \n",
       "0        0.803333  0.820000  0.811667          0.806667\n",
       "1        0.880000  0.886667  0.896667          0.913333\n",
       "2        0.903333  0.950000  0.938333          0.943333\n",
       "3        0.918333  0.955000  0.946667          0.955000\n",
       "4        0.953333  0.941667  0.945000          0.963333\n",
       "5        0.940000  0.958333  0.951667          0.961667\n",
       "6        0.948333  0.963333  0.963333          0.970000\n",
       "7        0.951667  0.966667  0.943333          0.966667\n",
       "8        0.963333  0.940000  0.966667          0.976667\n",
       "9        0.956667  0.966667  0.970000          0.966667"
      ]
     },
     "execution_count": 29,
     "metadata": {},
     "output_type": "execute_result"
    }
   ],
   "source": [
    "score_mpl_model = my_scenario.mpl.history.history['mpl_model']['val_accuracy'][:,-1]\n",
    "acc_per_partner['collective model'] = score_mpl_model\n",
    "acc_per_partner"
   ]
  },
  {
   "cell_type": "code",
   "execution_count": 30,
   "metadata": {
    "pycharm": {
     "name": "#%%\n"
    }
   },
   "outputs": [
    {
     "data": {
      "text/plain": [
       "<seaborn.axisgrid.FacetGrid at 0x203805a9d88>"
      ]
     },
     "execution_count": 30,
     "metadata": {},
     "output_type": "execute_result"
    },
    {
     "data": {
      "image/png": "[encoded data removed]",
      "text/plain": [
       "<Figure size 478.225x360 with 1 Axes>"
      ]
     },
     "metadata": {},
     "output_type": "display_data"
    }
   ],
   "source": [
    "ax = sns.relplot(data=acc_per_partner, kind=\"line\")\n",
    "ax.set(xlabel='epochs', ylabel='accuracy', title='Accuracy evolution over epochs')"
   ]
  },
  {
   "cell_type": "markdown",
   "metadata": {},
   "source": [
    "One can denote that the local models are better at start, but after few epochs, the collective model shows better abilities to generalize:"
   ]
  },
  {
   "cell_type": "code",
   "execution_count": 31,
   "metadata": {},
   "outputs": [
    {
     "data": {
      "text/plain": [
       "<seaborn.axisgrid.FacetGrid at 0x203824a9fc8>"
      ]
     },
     "execution_count": 31,
     "metadata": {},
     "output_type": "execute_result"
    },
    {
     "data": {
      "image/png": "[encoded data removed]",
      "text/plain": [
       "<Figure size 478.225x360 with 1 Axes>"
      ]
     },
     "metadata": {},
     "output_type": "display_data"
    }
   ],
   "source": [
    "ax = sns.relplot(data=acc_per_partner.iloc[2:], kind=\"line\")\n",
    "ax.set(xlabel='epochs', ylabel='accuracy', title='Accuracy evolution through the epochs')"
   ]
  },
  {
   "cell_type": "markdown",
   "metadata": {
    "colab_type": "text",
    "id": "99jaKK2LddPr"
   },
   "source": [
    "## 5 - Extract the model \n",
    "\n",
    "Finally, we can extract our model and use it, for example on the test set, and/or save it for later"
   ]
  },
  {
   "cell_type": "code",
   "execution_count": 19,
   "metadata": {
    "colab": {},
    "colab_type": "code",
    "id": "9wIdoS_bddPr"
   },
   "outputs": [
    {
     "name": "stdout",
     "output_type": "stream",
     "text": [
      "Model: \"sequential_15\"\n",
      "_________________________________________________________________\n",
      "Layer (type)                 Output Shape              Param #   \n",
      "=================================================================\n",
      "conv2d_29 (Conv2D)           (None, 26, 26, 32)        320       \n",
      "_________________________________________________________________\n",
      "conv2d_30 (Conv2D)           (None, 24, 24, 64)        18496     \n",
      "_________________________________________________________________\n",
      "max_pooling2d_15 (MaxPooling (None, 12, 12, 64)        0         \n",
      "_________________________________________________________________\n",
      "flatten_15 (Flatten)         (None, 9216)              0         \n",
      "_________________________________________________________________\n",
      "dense_29 (Dense)             (None, 128)               1179776   \n",
      "_________________________________________________________________\n",
      "dense_30 (Dense)             (None, 10)                1290      \n",
      "=================================================================\n",
      "Total params: 1,199,882\n",
      "Trainable params: 1,199,882\n",
      "Non-trainable params: 0\n",
      "_________________________________________________________________\n"
     ]
    }
   ],
   "source": [
    "model = my_scenario.mpl.build_model()\n",
    "model.summary()"
   ]
  },
  {
   "cell_type": "code",
   "execution_count": 20,
   "metadata": {
    "colab": {
     "base_uri": "https://localhost:8080/",
     "height": 52
    },
    "colab_type": "code",
    "id": "M4azOyxqddPu",
    "outputId": "3a4a8904-f156-4e96-b29b-1ff5c7faa60b"
   },
   "outputs": [
    {
     "name": "stdout",
     "output_type": "stream",
     "text": [
      "10000/10000 [==============================] - 4s 400us/step\n"
     ]
    },
    {
     "data": {
      "text/plain": [
       "[0.1096352076627547, 0.968999981880188]"
      ]
     },
     "execution_count": 20,
     "metadata": {},
     "output_type": "execute_result"
    }
   ],
   "source": [
    "x_test = my_scenario.dataset.x_test\n",
    "y_test = my_scenario.dataset.y_test\n",
    "model.evaluate(x_test, y_test)"
   ]
  },
  {
   "cell_type": "markdown",
   "metadata": {
    "colab_type": "text",
    "id": "VheE9NyxddPw"
   },
   "source": [
    "# That's it!\n",
    "\n",
    "Now you can explore our other tutorials for a better overview of what can be done with `mplc`!\n",
    "\n",
    "This work is collaborative, enthusiasts are welcome to comment open issues and PRs or open new ones.\n",
    "\n",
    "Should you be interested in this open effort and would like to share any question, suggestion or input, you can use the following channels:\n",
    "\n",
    "- This Github repository (issues or PRs)\n",
    "- Substra Foundation's [Slack workspace](https://substra-workspace.slack.com/join/shared_invite/zt-cpyedcab-FHYgpy08efKJ2FCadE2yCA), channel `#workgroup-mpl-contributivity`\n",
    "- Email: hello@substra.org\n",
    "\n",
    "![logo Substra Foundation](../../img/substra_logo_couleur_rvb_w150px.png)"
   ]
  },
  {
   "cell_type": "code",
   "execution_count": null,
   "metadata": {},
   "outputs": [],
   "source": []
  }
 ],
 "metadata": {
  "accelerator": "GPU",
  "colab": {
   "collapsed_sections": [],
   "name": "1 _INTRO_MNIST.ipynb",
   "provenance": []
  },
  "kernelspec": {
   "display_name": "Python 3",
   "language": "python",
   "name": "python3"
  },
  "language_info": {
   "codemirror_mode": {
    "name": "ipython",
    "version": 3
   },
   "file_extension": ".py",
   "mimetype": "text/x-python",
   "name": "python",
   "nbconvert_exporter": "python",
   "pygments_lexer": "ipython3",
   "version": "3.7.9"
  }
 },
 "nbformat": 4,
 "nbformat_minor": 1
}